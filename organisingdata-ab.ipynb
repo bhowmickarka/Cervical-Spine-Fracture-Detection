{
 "cells": [
  {
   "cell_type": "code",
   "execution_count": 1,
   "id": "6d06f9c4",
   "metadata": {
    "_cell_guid": "b1076dfc-b9ad-4769-8c92-a6c4dae69d19",
    "_uuid": "8f2839f25d086af736a60e9eeb907d3b93b6e0e5",
    "execution": {
     "iopub.execute_input": "2022-08-01T23:24:44.599093Z",
     "iopub.status.busy": "2022-08-01T23:24:44.598327Z",
     "iopub.status.idle": "2022-08-01T23:24:50.067108Z",
     "shell.execute_reply": "2022-08-01T23:24:50.065923Z"
    },
    "papermill": {
     "duration": 5.477112,
     "end_time": "2022-08-01T23:24:50.070980",
     "exception": false,
     "start_time": "2022-08-01T23:24:44.593868",
     "status": "completed"
    },
    "tags": []
   },
   "outputs": [
    {
     "data": {
      "text/plain": [
       "\"\\nfor dirname, _, filenames in os.walk('/kaggle/input'):\\n    for filename in filenames:\\n        print(os.path.join(dirname, filename))\\n\""
      ]
     },
     "execution_count": 1,
     "metadata": {},
     "output_type": "execute_result"
    }
   ],
   "source": [
    "# This Python 3 environment comes with many helpful analytics libraries installed\n",
    "# It is defined by the kaggle/python Docker image: https://github.com/kaggle/docker-python\n",
    "# For example, here's several helpful packages to load\n",
    "\n",
    "import numpy as np # linear algebra\n",
    "import pandas as pd # data processing, CSV file I/O (e.g. pd.read_csv)\n",
    "\n",
    "# Input data files are available in the read-only \"../input/\" directory\n",
    "# For example, running this (by clicking run or pressing Shift+Enter) will list all files under the input directory\n",
    "\n",
    "import os\n",
    "from glob import glob\n",
    "import pydicom\n",
    "import tensorflow as tf\n",
    "import tqdm as tqdm\n",
    "\"\"\"\n",
    "for dirname, _, filenames in os.walk('/kaggle/input'):\n",
    "    for filename in filenames:\n",
    "        print(os.path.join(dirname, filename))\n",
    "\"\"\"\n",
    "# You can write up to 20GB to the current directory (/kaggle/working/) that gets preserved as output when you create a version using \"Save & Run All\" \n",
    "# You can also write temporary files to /kaggle/temp/, but they won't be saved outside of the current session"
   ]
  },
  {
   "cell_type": "markdown",
   "id": "e26996b7",
   "metadata": {
    "papermill": {
     "duration": 0.003234,
     "end_time": "2022-08-01T23:24:50.076828",
     "exception": false,
     "start_time": "2022-08-01T23:24:50.073594",
     "status": "completed"
    },
    "tags": []
   },
   "source": [
    "# Creating the Dataset #"
   ]
  },
  {
   "cell_type": "code",
   "execution_count": 2,
   "id": "aa5f0a15",
   "metadata": {
    "execution": {
     "iopub.execute_input": "2022-08-01T23:24:50.083383Z",
     "iopub.status.busy": "2022-08-01T23:24:50.082559Z",
     "iopub.status.idle": "2022-08-01T23:24:50.094680Z",
     "shell.execute_reply": "2022-08-01T23:24:50.093907Z"
    },
    "papermill": {
     "duration": 0.01753,
     "end_time": "2022-08-01T23:24:50.096873",
     "exception": false,
     "start_time": "2022-08-01T23:24:50.079343",
     "status": "completed"
    },
    "tags": []
   },
   "outputs": [],
   "source": [
    "class cl_CreatingDataset:\n",
    "    def __init__(self, imageHeight, imageWidth, batch_size):\n",
    "        self.imageHeight = imageHeight\n",
    "        self.imageWidth = imageWidth\n",
    "        self.batch_size = batch_size\n",
    "\n",
    "    \n",
    "    def creatingPathList(self, trainImagesPath, trainDfPath):\n",
    "        trainDf = pd.read_csv(trainDfPath)\n",
    "        trainImagesPathList = []\n",
    "        labels = []\n",
    "        # reading the tain CSV\n",
    "        trainDf = pd.read_csv(trainDfPath)\n",
    "        for i in tqdm.tqdm(range(len(trainDf))):\n",
    "            folderName = trainDf[\"StudyInstanceUID\"].iloc[i]\n",
    "            imageFolderPath = os.path.join(trainImagesPath, folderName)\n",
    "\n",
    "            for file in glob(os.path.join(imageFolderPath, \"*.dcm\")):\n",
    "                # taking the imageName\n",
    "                trainImagesPathList.append(file)\n",
    "                # creating the labels\n",
    "                label = np.array([trainDf[\"C1\"].iloc[i],trainDf[\"C2\"].iloc[i], trainDf[\"C3\"].iloc[i], trainDf[\"C4\"].iloc[i], trainDf[\"C5\"].iloc[i], \n",
    "                                 trainDf[\"C6\"].iloc[i], trainDf[\"C7\"].iloc[i], trainDf[\"patient_overall\"].iloc[i]])\n",
    "                labels.append(label)\n",
    "        \n",
    "        return trainImagesPathList, labels\n",
    "    \n",
    "    \n",
    "    def parse_function(self, filename, label):\n",
    "        \n",
    "        image_bytes = tf.io.read_file(filename)\n",
    "\n",
    "        image = tfio.image.decode_dicom_image(image_bytes, dtype=tf.uint16)\n",
    "\n",
    "        image = tf.image.convert_image_dtype(image, tf.float32)\n",
    "        \n",
    "        resized_image = tf.image.resize(image, [self.imageHeight, self.imageWidth])\n",
    "\n",
    "        return resized_image, label\n",
    "    \n",
    "    def train_preprocess(self, image, label):\n",
    "        return image, label\n",
    "\n",
    "\n",
    "    def creatingDataset(self, filenames, labels):\n",
    "        dataset = tf.data.Dataset.from_tensor_slices((filenames, labels))\n",
    "        dataset = dataset.shuffle(len(filenames))\n",
    "        dataset = dataset.map(self.parse_function, num_parallel_calls=4)\n",
    "        dataset = dataset.map(self.train_preprocess, num_parallel_calls=4)\n",
    "        dataset = dataset.batch(self.batch_size)\n",
    "        dataset = dataset.prefetch(1)\n",
    "\n",
    "        return dataset"
   ]
  }
 ],
 "metadata": {
  "kernelspec": {
   "display_name": "Python 3",
   "language": "python",
   "name": "python3"
  },
  "language_info": {
   "codemirror_mode": {
    "name": "ipython",
    "version": 3
   },
   "file_extension": ".py",
   "mimetype": "text/x-python",
   "name": "python",
   "nbconvert_exporter": "python",
   "pygments_lexer": "ipython3",
   "version": "3.7.12"
  },
  "papermill": {
   "default_parameters": {},
   "duration": 17.470817,
   "end_time": "2022-08-01T23:24:53.486975",
   "environment_variables": {},
   "exception": null,
   "input_path": "__notebook__.ipynb",
   "output_path": "__notebook__.ipynb",
   "parameters": {},
   "start_time": "2022-08-01T23:24:36.016158",
   "version": "2.3.4"
  }
 },
 "nbformat": 4,
 "nbformat_minor": 5
}
