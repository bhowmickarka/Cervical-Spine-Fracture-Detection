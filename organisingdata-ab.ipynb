{
 "cells": [
  {
   "cell_type": "code",
   "execution_count": 1,
   "id": "d67e4b6e",
   "metadata": {
    "_cell_guid": "b1076dfc-b9ad-4769-8c92-a6c4dae69d19",
    "_uuid": "8f2839f25d086af736a60e9eeb907d3b93b6e0e5",
    "execution": {
     "iopub.execute_input": "2022-07-31T23:51:19.929621Z",
     "iopub.status.busy": "2022-07-31T23:51:19.928547Z",
     "iopub.status.idle": "2022-07-31T23:51:25.675373Z",
     "shell.execute_reply": "2022-07-31T23:51:25.673732Z"
    },
    "papermill": {
     "duration": 5.759164,
     "end_time": "2022-07-31T23:51:25.678284",
     "exception": false,
     "start_time": "2022-07-31T23:51:19.919120",
     "status": "completed"
    },
    "tags": []
   },
   "outputs": [
    {
     "data": {
      "text/plain": [
       "\"\\nfor dirname, _, filenames in os.walk('/kaggle/input'):\\n    for filename in filenames:\\n        print(os.path.join(dirname, filename))\\n\""
      ]
     },
     "execution_count": 1,
     "metadata": {},
     "output_type": "execute_result"
    }
   ],
   "source": [
    "# This Python 3 environment comes with many helpful analytics libraries installed\n",
    "# It is defined by the kaggle/python Docker image: https://github.com/kaggle/docker-python\n",
    "# For example, here's several helpful packages to load\n",
    "\n",
    "import numpy as np # linear algebra\n",
    "import pandas as pd # data processing, CSV file I/O (e.g. pd.read_csv)\n",
    "\n",
    "# Input data files are available in the read-only \"../input/\" directory\n",
    "# For example, running this (by clicking run or pressing Shift+Enter) will list all files under the input directory\n",
    "\n",
    "import os\n",
    "from glob import glob\n",
    "import pydicom\n",
    "import tensorflow as tf\n",
    "import tqdm as tqdm\n",
    "\"\"\"\n",
    "for dirname, _, filenames in os.walk('/kaggle/input'):\n",
    "    for filename in filenames:\n",
    "        print(os.path.join(dirname, filename))\n",
    "\"\"\"\n",
    "# You can write up to 20GB to the current directory (/kaggle/working/) that gets preserved as output when you create a version using \"Save & Run All\" \n",
    "# You can also write temporary files to /kaggle/temp/, but they won't be saved outside of the current session"
   ]
  },
  {
   "cell_type": "markdown",
   "id": "44013ec1",
   "metadata": {
    "papermill": {
     "duration": 0.00434,
     "end_time": "2022-07-31T23:51:25.686753",
     "exception": false,
     "start_time": "2022-07-31T23:51:25.682413",
     "status": "completed"
    },
    "tags": []
   },
   "source": [
    "## having an idea of the input Images ##"
   ]
  },
  {
   "cell_type": "code",
   "execution_count": 2,
   "id": "ce2201b3",
   "metadata": {
    "execution": {
     "iopub.execute_input": "2022-07-31T23:51:25.695932Z",
     "iopub.status.busy": "2022-07-31T23:51:25.695269Z",
     "iopub.status.idle": "2022-07-31T23:51:25.811885Z",
     "shell.execute_reply": "2022-07-31T23:51:25.810928Z"
    },
    "papermill": {
     "duration": 0.124797,
     "end_time": "2022-07-31T23:51:25.815109",
     "exception": false,
     "start_time": "2022-07-31T23:51:25.690312",
     "status": "completed"
    },
    "tags": []
   },
   "outputs": [
    {
     "name": "stdout",
     "output_type": "stream",
     "text": [
      "(512, 512)\n"
     ]
    }
   ],
   "source": [
    "imageFolderPath = \"../input/rsna-2022-cervical-spine-fracture-detection/train_images/1.2.826.0.1.3680043.10062\"\n",
    "imageFiles = sorted(glob(os.path.join(imageFolderPath, \"*.dcm\")))\n",
    "image_path = imageFiles[0]\n",
    "image = pydicom.dcmread(image_path)\n",
    "print(image.pixel_array.shape)"
   ]
  },
  {
   "cell_type": "markdown",
   "id": "84e9f93c",
   "metadata": {
    "papermill": {
     "duration": 0.003527,
     "end_time": "2022-07-31T23:51:25.823140",
     "exception": false,
     "start_time": "2022-07-31T23:51:25.819613",
     "status": "completed"
    },
    "tags": []
   },
   "source": [
    "## Creating the list of filenames and labels ##"
   ]
  },
  {
   "cell_type": "code",
   "execution_count": 3,
   "id": "b748ffa1",
   "metadata": {
    "execution": {
     "iopub.execute_input": "2022-07-31T23:51:25.833195Z",
     "iopub.status.busy": "2022-07-31T23:51:25.832327Z",
     "iopub.status.idle": "2022-07-31T23:55:50.336018Z",
     "shell.execute_reply": "2022-07-31T23:55:50.334552Z"
    },
    "papermill": {
     "duration": 264.511821,
     "end_time": "2022-07-31T23:55:50.338644",
     "exception": false,
     "start_time": "2022-07-31T23:51:25.826823",
     "status": "completed"
    },
    "tags": []
   },
   "outputs": [
    {
     "name": "stderr",
     "output_type": "stream",
     "text": [
      "100%|██████████| 2019/2019 [04:24<00:00,  7.63it/s]"
     ]
    },
    {
     "name": "stdout",
     "output_type": "stream",
     "text": [
      "711601  :  711601\n"
     ]
    },
    {
     "name": "stderr",
     "output_type": "stream",
     "text": [
      "\n"
     ]
    }
   ],
   "source": [
    "# creating a list of  filenames and labels\n",
    "trainImagesPath = \"../input/rsna-2022-cervical-spine-fracture-detection/train_images\"\n",
    "trainDfPath = \"../input/rsna-2022-cervical-spine-fracture-detection/train.csv\"\n",
    "trainDf = pd.read_csv(trainDfPath)\n",
    "trainImagesPathList = []\n",
    "labels = []\n",
    "\n",
    "for i in tqdm.tqdm(range(len(trainDf))):\n",
    "    folderName = trainDf[\"StudyInstanceUID\"].iloc[i]\n",
    "    imageFolderPath = os.path.join(trainImagesPath, folderName)\n",
    "    \n",
    "    for file in glob(os.path.join(imageFolderPath, \"*.dcm\")):\n",
    "        # taking the imageName\n",
    "        trainImagesPathList.append(file)\n",
    "        # creating the labels\n",
    "        label = np.array([trainDf[\"C1\"].iloc[i],trainDf[\"C2\"].iloc[i], trainDf[\"C3\"].iloc[i], trainDf[\"C4\"].iloc[i], trainDf[\"C5\"].iloc[i], \n",
    "                         trainDf[\"C6\"].iloc[i], trainDf[\"C7\"].iloc[i], trainDf[\"patient_overall\"].iloc[i]])\n",
    "        labels.append(label)\n",
    "        \n",
    "print(len(trainImagesPathList), \" : \", len(labels))"
   ]
  },
  {
   "cell_type": "code",
   "execution_count": 4,
   "id": "0f9b0692",
   "metadata": {
    "execution": {
     "iopub.execute_input": "2022-07-31T23:55:50.552915Z",
     "iopub.status.busy": "2022-07-31T23:55:50.552136Z",
     "iopub.status.idle": "2022-07-31T23:55:50.571280Z",
     "shell.execute_reply": "2022-07-31T23:55:50.570232Z"
    },
    "papermill": {
     "duration": 0.129461,
     "end_time": "2022-07-31T23:55:50.574361",
     "exception": false,
     "start_time": "2022-07-31T23:55:50.444900",
     "status": "completed"
    },
    "tags": []
   },
   "outputs": [
    {
     "name": "stdout",
     "output_type": "stream",
     "text": [
      "1.2.826.0.1.3680043.6200\n",
      "[1 1 0 0 0 0 0 1]\n",
      "Dataset.file_meta -------------------------------\n",
      "(0002, 0001) File Meta Information Version       OB: b'\\x00\\x01'\n",
      "(0002, 0002) Media Storage SOP Class UID         UI: CT Image Storage\n",
      "(0002, 0003) Media Storage SOP Instance UID      UI: 1.2.826.0.1.3680043.6200.1.240\n",
      "(0002, 0010) Transfer Syntax UID                 UI: JPEG Lossless, Non-Hierarchical, First-Order Prediction (Process 14 [Selection Value 1])\n",
      "(0002, 0012) Implementation Class UID            UI: 1.2.40.0.13.1.1.1\n",
      "(0002, 0013) Implementation Version Name         SH: 'PYDICOM 2.3.0'\n",
      "-------------------------------------------------\n",
      "(0008, 0018) SOP Instance UID                    UI: 1.2.826.0.1.3680043.6200.1.240\n",
      "(0008, 0023) Content Date                        DA: '20220727'\n",
      "(0008, 0033) Content Time                        TM: '185002.042922'\n",
      "(0010, 0010) Patient's Name                      PN: '6200'\n",
      "(0010, 0020) Patient ID                          LO: '6200'\n",
      "(0018, 0050) Slice Thickness                     DS: '1.0'\n",
      "(0020, 000d) Study Instance UID                  UI: 1.2.826.0.1.3680043.6200\n",
      "(0020, 000e) Series Instance UID                 UI: 1.2.826.0.1.3680043.6200.1\n",
      "(0020, 0013) Instance Number                     IS: '240'\n",
      "(0020, 0032) Image Position (Patient)            DS: [-118.530, -103.5302, 143.30]\n",
      "(0020, 0037) Image Orientation (Patient)         DS: [1.00000, 0.00000, 0.00000, 0.00000, 1.00000, 0.00000]\n",
      "(0028, 0002) Samples per Pixel                   US: 1\n",
      "(0028, 0004) Photometric Interpretation          CS: 'MONOCHROME2'\n",
      "(0028, 0010) Rows                                US: 512\n",
      "(0028, 0011) Columns                             US: 512\n",
      "(0028, 0030) Pixel Spacing                       DS: [0.439, 0.439]\n",
      "(0028, 0100) Bits Allocated                      US: 16\n",
      "(0028, 0101) Bits Stored                         US: 16\n",
      "(0028, 0102) High Bit                            US: 15\n",
      "(0028, 0103) Pixel Representation                US: 1\n",
      "(0028, 1050) Window Center                       DS: '350.0'\n",
      "(0028, 1051) Window Width                        DS: '2700.0'\n",
      "(0028, 1052) Rescale Intercept                   DS: '0.0'\n",
      "(0028, 1053) Rescale Slope                       DS: '1.0'\n",
      "(7fe0, 0010) Pixel Data                          OB: Array of 260256 elements\n"
     ]
    }
   ],
   "source": [
    "print(trainImagesPathList[0].split(\"/\")[-2])\n",
    "print(labels[0])\n",
    "example_file = pydicom.dcmread(trainImagesPathList[0])\n",
    "print(example_file)"
   ]
  },
  {
   "cell_type": "markdown",
   "id": "4ee12190",
   "metadata": {
    "papermill": {
     "duration": 0.109191,
     "end_time": "2022-07-31T23:55:50.794285",
     "exception": false,
     "start_time": "2022-07-31T23:55:50.685094",
     "status": "completed"
    },
    "tags": []
   },
   "source": [
    "# Creating the Dataset #"
   ]
  },
  {
   "cell_type": "code",
   "execution_count": 5,
   "id": "f3382cb0",
   "metadata": {
    "execution": {
     "iopub.execute_input": "2022-07-31T23:55:51.013201Z",
     "iopub.status.busy": "2022-07-31T23:55:51.012437Z",
     "iopub.status.idle": "2022-07-31T23:55:51.018742Z",
     "shell.execute_reply": "2022-07-31T23:55:51.017385Z"
    },
    "papermill": {
     "duration": 0.118167,
     "end_time": "2022-07-31T23:55:51.021141",
     "exception": false,
     "start_time": "2022-07-31T23:55:50.902974",
     "status": "completed"
    },
    "tags": []
   },
   "outputs": [
    {
     "name": "stdout",
     "output_type": "stream",
     "text": [
      "[1 1 0 0 0 0 0 1]\n"
     ]
    }
   ],
   "source": [
    "print(labels[0])"
   ]
  },
  {
   "cell_type": "code",
   "execution_count": 6,
   "id": "4b32b88d",
   "metadata": {
    "execution": {
     "iopub.execute_input": "2022-07-31T23:55:51.235758Z",
     "iopub.status.busy": "2022-07-31T23:55:51.234997Z",
     "iopub.status.idle": "2022-07-31T23:55:53.596156Z",
     "shell.execute_reply": "2022-07-31T23:55:53.594185Z"
    },
    "papermill": {
     "duration": 2.471962,
     "end_time": "2022-07-31T23:55:53.599547",
     "exception": false,
     "start_time": "2022-07-31T23:55:51.127585",
     "status": "completed"
    },
    "tags": []
   },
   "outputs": [
    {
     "name": "stderr",
     "output_type": "stream",
     "text": [
      "2022-07-31 23:55:52.784418: I tensorflow/core/common_runtime/process_util.cc:146] Creating new thread pool with default inter op setting: 2. Tune using inter_op_parallelism_threads for best performance.\n"
     ]
    },
    {
     "name": "stdout",
     "output_type": "stream",
     "text": [
      "b'../input/rsna-2022-cervical-spine-fracture-detection/train_images/1.2.826.0.1.3680043.6200/240.dcm'\n",
      "<class 'bytes'>\n",
      "Inside parse function\n"
     ]
    },
    {
     "name": "stderr",
     "output_type": "stream",
     "text": [
      "2022-07-31 23:55:52.994002: I tensorflow_io/core/kernels/cpu_check.cc:128] Your CPU supports instructions that this TensorFlow IO binary was not compiled to use: AVX2 FMA\n"
     ]
    },
    {
     "name": "stdout",
     "output_type": "stream",
     "text": [
      "4\n"
     ]
    }
   ],
   "source": [
    "import tensorflow_io as tfio\n",
    "\n",
    "def parse_function(filename, label):\n",
    "    print(\"Inside parse function\")\n",
    "    #print(\"Filename : \", filename.as_numpy_iterator())\n",
    "    \n",
    "    image_bytes = tf.io.read_file(filename)\n",
    "\n",
    "    image = tfio.image.decode_dicom_image(image_bytes, dtype=tf.uint16)\n",
    "    \n",
    "    return image, label\n",
    "    \"\"\"\n",
    "    image_string = pydicom.dcmread(str(filename))\n",
    "    #Don't use tf.image.decode_image, or the output shape will be undefined\n",
    "    image = tf.image.decode_jpeg(image_string, channels=1)\n",
    "\n",
    "    #This will convert to float values in [0, 1]\n",
    "    image = tf.image.convert_image_dtype(image, tf.float32)\n",
    "\n",
    "    resized_image = tf.image.resize(image, [256, 256])\n",
    "    print(\"Resized Image : \", resized_image.shape)\n",
    "    return resized_image, label\n",
    "    \"\"\"\n",
    "def train_preprocess(image, label):\n",
    "    return image, label\n",
    "\n",
    "\n",
    "def creatingDataset(filenames, labels, batch_size = 4):\n",
    "    dataset = tf.data.Dataset.from_tensor_slices((filenames, labels))\n",
    "    print(list(dataset.as_numpy_iterator())[0][0])\n",
    "    print(type(list(dataset.as_numpy_iterator())[0][0]))\n",
    "    #dataset = dataset.shuffle(len(filenames))\n",
    "    dataset = dataset.map(parse_function)\n",
    "    #dataset = dataset.map(train_preprocess, num_parallel_calls=4)\n",
    "    #dataset = dataset.batch(batch_size)\n",
    "    #dataset = dataset.prefetch(1)\n",
    "    \n",
    "    return dataset\n",
    "\n",
    "dataset = creatingDataset(trainImagesPathList[0:4], labels[0:4])\n",
    "print(len(dataset))"
   ]
  },
  {
   "cell_type": "code",
   "execution_count": 7,
   "id": "86fc183a",
   "metadata": {
    "execution": {
     "iopub.execute_input": "2022-07-31T23:55:53.830504Z",
     "iopub.status.busy": "2022-07-31T23:55:53.830056Z",
     "iopub.status.idle": "2022-07-31T23:55:54.278198Z",
     "shell.execute_reply": "2022-07-31T23:55:54.276884Z"
    },
    "papermill": {
     "duration": 0.565466,
     "end_time": "2022-07-31T23:55:54.281155",
     "exception": false,
     "start_time": "2022-07-31T23:55:53.715689",
     "status": "completed"
    },
    "tags": []
   },
   "outputs": [
    {
     "name": "stderr",
     "output_type": "stream",
     "text": [
      "2022-07-31 23:55:53.845586: I tensorflow/compiler/mlir/mlir_graph_optimization_pass.cc:185] None of the MLIR Optimization Passes are enabled (registered 2)\n",
      "W: DcmMetaInfo: No Group Length available in Meta Information Header\n",
      "W: DcmMetaInfo: No Group Length available in Meta Information Header\n",
      "W: DcmMetaInfo: No Group Length available in Meta Information Header\n",
      "W: DcmMetaInfo: No Group Length available in Meta Information Header\n"
     ]
    },
    {
     "data": {
      "image/png": "[encoded data removed]",
      "text/plain": [
       "<Figure size 432x288 with 1 Axes>"
      ]
     },
     "metadata": {
      "needs_background": "light"
     },
     "output_type": "display_data"
    }
   ],
   "source": [
    "import matplotlib.pyplot as plt\n",
    "for images, labels in dataset.take(1):  # only take first element of dataset\n",
    "    numpy_images = images.numpy()\n",
    "    numpy_labels = labels.numpy()\n",
    "    \n",
    "    plt.imshow(np.squeeze(numpy_images, axis = 0))\n",
    "    plt.show()"
   ]
  }
 ],
 "metadata": {
  "kernelspec": {
   "display_name": "Python 3",
   "language": "python",
   "name": "python3"
  },
  "language_info": {
   "codemirror_mode": {
    "name": "ipython",
    "version": 3
   },
   "file_extension": ".py",
   "mimetype": "text/x-python",
   "name": "python",
   "nbconvert_exporter": "python",
   "pygments_lexer": "ipython3",
   "version": "3.7.12"
  },
  "papermill": {
   "default_parameters": {},
   "duration": 287.849863,
   "end_time": "2022-07-31T23:55:57.682595",
   "environment_variables": {},
   "exception": null,
   "input_path": "__notebook__.ipynb",
   "output_path": "__notebook__.ipynb",
   "parameters": {},
   "start_time": "2022-07-31T23:51:09.832732",
   "version": "2.3.4"
  }
 },
 "nbformat": 4,
 "nbformat_minor": 5
}
