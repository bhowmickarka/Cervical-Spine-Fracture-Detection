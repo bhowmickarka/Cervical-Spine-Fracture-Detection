{
 "cells": [
  {
   "cell_type": "code",
   "execution_count": 1,
   "id": "50edd4a5",
   "metadata": {
    "_cell_guid": "b1076dfc-b9ad-4769-8c92-a6c4dae69d19",
    "_uuid": "8f2839f25d086af736a60e9eeb907d3b93b6e0e5",
    "execution": {
     "iopub.execute_input": "2022-08-06T10:54:51.463993Z",
     "iopub.status.busy": "2022-08-06T10:54:51.462801Z",
     "iopub.status.idle": "2022-08-06T10:54:58.533197Z",
     "shell.execute_reply": "2022-08-06T10:54:58.531149Z"
    },
    "papermill": {
     "duration": 7.078885,
     "end_time": "2022-08-06T10:54:58.536167",
     "exception": false,
     "start_time": "2022-08-06T10:54:51.457282",
     "status": "completed"
    },
    "tags": []
   },
   "outputs": [
    {
     "data": {
      "text/plain": [
       "\"\\nfor dirname, _, filenames in os.walk('/kaggle/input'):\\n    for filename in filenames:\\n        print(os.path.join(dirname, filename))\\n\""
      ]
     },
     "execution_count": 1,
     "metadata": {},
     "output_type": "execute_result"
    }
   ],
   "source": [
    "# This Python 3 environment comes with many helpful analytics libraries installed\n",
    "# It is defined by the kaggle/python Docker image: https://github.com/kaggle/docker-python\n",
    "# For example, here's several helpful packages to load\n",
    "\n",
    "import numpy as np # linear algebra\n",
    "import pandas as pd # data processing, CSV file I/O (e.g. pd.read_csv)\n",
    "\n",
    "# Input data files are available in the read-only \"../input/\" directory\n",
    "# For example, running this (by clicking run or pressing Shift+Enter) will list all files under the input directory\n",
    "\n",
    "import os\n",
    "from glob import glob\n",
    "import pydicom\n",
    "import tensorflow as tf\n",
    "import tqdm as tqdm\n",
    "import tensorflow_io as tfio\n",
    "\"\"\"\n",
    "for dirname, _, filenames in os.walk('/kaggle/input'):\n",
    "    for filename in filenames:\n",
    "        print(os.path.join(dirname, filename))\n",
    "\"\"\"\n",
    "# You can write up to 20GB to the current directory (/kaggle/working/) that gets preserved as output when you create a version using \"Save & Run All\" \n",
    "# You can also write temporary files to /kaggle/temp/, but they won't be saved outside of the current session"
   ]
  },
  {
   "cell_type": "markdown",
   "id": "8b10ef36",
   "metadata": {
    "papermill": {
     "duration": 0.002382,
     "end_time": "2022-08-06T10:54:58.541773",
     "exception": false,
     "start_time": "2022-08-06T10:54:58.539391",
     "status": "completed"
    },
    "tags": []
   },
   "source": [
    "# Creating the Dataset #"
   ]
  },
  {
   "cell_type": "code",
   "execution_count": 2,
   "id": "80c8b233",
   "metadata": {
    "execution": {
     "iopub.execute_input": "2022-08-06T10:54:58.549518Z",
     "iopub.status.busy": "2022-08-06T10:54:58.548268Z",
     "iopub.status.idle": "2022-08-06T10:54:58.563200Z",
     "shell.execute_reply": "2022-08-06T10:54:58.562287Z"
    },
    "papermill": {
     "duration": 0.021366,
     "end_time": "2022-08-06T10:54:58.565709",
     "exception": false,
     "start_time": "2022-08-06T10:54:58.544343",
     "status": "completed"
    },
    "tags": []
   },
   "outputs": [],
   "source": [
    "class cl_CreatingDataset:\n",
    "    def __init__(self, imageHeight, imageWidth, batch_size):\n",
    "        self.imageHeight = imageHeight\n",
    "        self.imageWidth = imageWidth\n",
    "        self.batch_size = batch_size\n",
    "\n",
    "    \n",
    "    def creatingPathList(self, trainImagesPath, trainDfPath):\n",
    "        trainDf = pd.read_csv(trainDfPath)\n",
    "        trainImagesPathList = []\n",
    "        labels = []\n",
    "        # reading the tain CSV\n",
    "        trainDf = pd.read_csv(trainDfPath)\n",
    "        for i in tqdm.tqdm(range(len(trainDf))):\n",
    "            folderName = trainDf[\"StudyInstanceUID\"].iloc[i]\n",
    "            imageFolderPath = os.path.join(trainImagesPath, folderName)\n",
    "\n",
    "            for file in glob(os.path.join(imageFolderPath, \"*.dcm\")):\n",
    "                # taking the imageName\n",
    "                trainImagesPathList.append(file)\n",
    "                # creating the labels\n",
    "                label = np.array([trainDf[\"C1\"].iloc[i],trainDf[\"C2\"].iloc[i], trainDf[\"C3\"].iloc[i], trainDf[\"C4\"].iloc[i], trainDf[\"C5\"].iloc[i], \n",
    "                                 trainDf[\"C6\"].iloc[i], trainDf[\"C7\"].iloc[i], trainDf[\"patient_overall\"].iloc[i]])\n",
    "                labels.append(label)\n",
    "        \n",
    "        return trainImagesPathList, labels\n",
    "    \n",
    "    \n",
    "    def parse_function(self, filename, label):\n",
    "        image_bytes = tf.io.read_file(filename)\n",
    "        image = tfio.image.decode_dicom_image(image_bytes, dtype=tf.float32)\n",
    "        #image = tf.image.convert_image_dtype(image, tf.float32)\n",
    "        resized_image = tf.image.resize(image, [self.imageHeight, self.imageWidth])\n",
    "        compressedImage = tf.squeeze(resized_image, axis = 0)\n",
    "        finalImage = tf.repeat(compressedImage, repeats=[3], axis = 2)\n",
    "        return finalImage, label\n",
    "        \n",
    "    def train_preprocess(self, image, label):\n",
    "        return image, label\n",
    "\n",
    "\n",
    "    def creatingDataset(self, filenames, labels):\n",
    "        dataset = tf.data.Dataset.from_tensor_slices((filenames, labels))\n",
    "        dataset = dataset.shuffle(len(filenames))\n",
    "        dataset = dataset.map(self.parse_function, num_parallel_calls=4)\n",
    "        dataset = dataset.map(self.train_preprocess, num_parallel_calls=4)\n",
    "        dataset = dataset.batch(self.batch_size)\n",
    "        dataset = dataset.prefetch(1)\n",
    "\n",
    "        return dataset"
   ]
  },
  {
   "cell_type": "code",
   "execution_count": 3,
   "id": "3dad9a01",
   "metadata": {
    "execution": {
     "iopub.execute_input": "2022-08-06T10:54:58.573678Z",
     "iopub.status.busy": "2022-08-06T10:54:58.572560Z",
     "iopub.status.idle": "2022-08-06T10:58:51.405100Z",
     "shell.execute_reply": "2022-08-06T10:58:51.403583Z"
    },
    "papermill": {
     "duration": 232.839347,
     "end_time": "2022-08-06T10:58:51.407984",
     "exception": false,
     "start_time": "2022-08-06T10:54:58.568637",
     "status": "completed"
    },
    "tags": []
   },
   "outputs": [
    {
     "name": "stderr",
     "output_type": "stream",
     "text": [
      "100%|██████████| 2019/2019 [03:52<00:00,  8.67it/s]"
     ]
    },
    {
     "name": "stdout",
     "output_type": "stream",
     "text": [
      "train Image list : 65 ..... train label list :  711601\n"
     ]
    },
    {
     "name": "stderr",
     "output_type": "stream",
     "text": [
      "\n"
     ]
    }
   ],
   "source": [
    "trainCsv = \"../input/rsna-2022-cervical-spine-fracture-detection/train.csv\"\n",
    "trainImagePath = \"../input/rsna-2022-cervical-spine-fracture-detection/train_images\"\n",
    "creDataset = cl_CreatingDataset(64, 64, 4)\n",
    "trainImagesPathList, labels = creDataset.creatingPathList(trainImagePath, trainCsv)\n",
    "print(\"train Image list :\", len(trainImagePath), \".....\", \"train label list : \", len(labels))"
   ]
  },
  {
   "cell_type": "code",
   "execution_count": 4,
   "id": "e9ce9316",
   "metadata": {
    "execution": {
     "iopub.execute_input": "2022-08-06T10:58:51.566248Z",
     "iopub.status.busy": "2022-08-06T10:58:51.565538Z",
     "iopub.status.idle": "2022-08-06T10:59:12.436645Z",
     "shell.execute_reply": "2022-08-06T10:59:12.435448Z"
    },
    "papermill": {
     "duration": 20.954078,
     "end_time": "2022-08-06T10:59:12.439469",
     "exception": false,
     "start_time": "2022-08-06T10:58:51.485391",
     "status": "completed"
    },
    "tags": []
   },
   "outputs": [
    {
     "name": "stderr",
     "output_type": "stream",
     "text": [
      "2022-08-06 10:58:53.868384: I tensorflow/core/common_runtime/process_util.cc:146] Creating new thread pool with default inter op setting: 2. Tune using inter_op_parallelism_threads for best performance.\n",
      "2022-08-06 10:59:12.103040: I tensorflow_io/core/kernels/cpu_check.cc:128] Your CPU supports instructions that this TensorFlow IO binary was not compiled to use: AVX2 FMA\n"
     ]
    }
   ],
   "source": [
    "dataset = creDataset.creatingDataset(trainImagesPathList, labels)"
   ]
  },
  {
   "cell_type": "code",
   "execution_count": 5,
   "id": "b6eff483",
   "metadata": {
    "execution": {
     "iopub.execute_input": "2022-08-06T10:59:12.595762Z",
     "iopub.status.busy": "2022-08-06T10:59:12.594768Z",
     "iopub.status.idle": "2022-08-06T10:59:13.610587Z",
     "shell.execute_reply": "2022-08-06T10:59:13.609707Z"
    },
    "papermill": {
     "duration": 1.098075,
     "end_time": "2022-08-06T10:59:13.614748",
     "exception": false,
     "start_time": "2022-08-06T10:59:12.516673",
     "status": "completed"
    },
    "tags": []
   },
   "outputs": [
    {
     "name": "stderr",
     "output_type": "stream",
     "text": [
      "2022-08-06 10:59:12.703789: I tensorflow/compiler/mlir/mlir_graph_optimization_pass.cc:185] None of the MLIR Optimization Passes are enabled (registered 2)\n"
     ]
    },
    {
     "name": "stdout",
     "output_type": "stream",
     "text": [
      "(4, 64, 64, 3)\n"
     ]
    },
    {
     "name": "stderr",
     "output_type": "stream",
     "text": [
      "W: DcmMetaInfo: No Group Length available in Meta Information Header\n",
      "W: DcmMetaInfo: No Group Length available in Meta Information Header\n",
      "W: DcmMetaInfo: No Group Length available in Meta Information Header\n",
      "W: DcmMetaInfo: No Group Length available in Meta Information Header\n",
      "W: DcmMetaInfo: No Group Length available in Meta Information Header\n",
      "W: DcmMetaInfo: No Group Length available in Meta Information Header\n",
      "W: DcmMetaInfo: No Group Length available in Meta Information Header\n",
      "W: DcmMetaInfo: No Group Length available in Meta Information Header\n"
     ]
    }
   ],
   "source": [
    "for image, label in dataset.take(1):\n",
    "    imageNp = image.numpy()\n",
    "    print(imageNp.shape)"
   ]
  }
 ],
 "metadata": {
  "kernelspec": {
   "display_name": "Python 3",
   "language": "python",
   "name": "python3"
  },
  "language_info": {
   "codemirror_mode": {
    "name": "ipython",
    "version": 3
   },
   "file_extension": ".py",
   "mimetype": "text/x-python",
   "name": "python",
   "nbconvert_exporter": "python",
   "pygments_lexer": "ipython3",
   "version": "3.7.12"
  },
  "papermill": {
   "default_parameters": {},
   "duration": 274.66933,
   "end_time": "2022-08-06T10:59:16.388170",
   "environment_variables": {},
   "exception": null,
   "input_path": "__notebook__.ipynb",
   "output_path": "__notebook__.ipynb",
   "parameters": {},
   "start_time": "2022-08-06T10:54:41.718840",
   "version": "2.3.4"
  }
 },
 "nbformat": 4,
 "nbformat_minor": 5
}
