{
 "cells": [
  {
   "cell_type": "code",
   "execution_count": 1,
   "id": "53e9f8c9",
   "metadata": {
    "_cell_guid": "b1076dfc-b9ad-4769-8c92-a6c4dae69d19",
    "_uuid": "8f2839f25d086af736a60e9eeb907d3b93b6e0e5",
    "execution": {
     "iopub.execute_input": "2022-08-09T16:57:31.976526Z",
     "iopub.status.busy": "2022-08-09T16:57:31.975250Z",
     "iopub.status.idle": "2022-08-09T16:57:39.839694Z",
     "shell.execute_reply": "2022-08-09T16:57:39.838359Z"
    },
    "papermill": {
     "duration": 7.87444,
     "end_time": "2022-08-09T16:57:39.842889",
     "exception": false,
     "start_time": "2022-08-09T16:57:31.968449",
     "status": "completed"
    },
    "tags": []
   },
   "outputs": [
    {
     "data": {
      "text/plain": [
       "\"\\nfor dirname, _, filenames in os.walk('/kaggle/input'):\\n    for filename in filenames:\\n        print(os.path.join(dirname, filename))\\n\""
      ]
     },
     "execution_count": 1,
     "metadata": {},
     "output_type": "execute_result"
    }
   ],
   "source": [
    "# This Python 3 environment comes with many helpful analytics libraries installed\n",
    "# It is defined by the kaggle/python Docker image: https://github.com/kaggle/docker-python\n",
    "# For example, here's several helpful packages to load\n",
    "\n",
    "import numpy as np # linear algebra\n",
    "import pandas as pd # data processing, CSV file I/O (e.g. pd.read_csv)\n",
    "\n",
    "# Input data files are available in the read-only \"../input/\" directory\n",
    "# For example, running this (by clicking run or pressing Shift+Enter) will list all files under the input directory\n",
    "\n",
    "import os\n",
    "from glob import glob\n",
    "import pydicom\n",
    "import tensorflow as tf\n",
    "import tqdm as tqdm\n",
    "import tensorflow_io as tfio\n",
    "\"\"\"\n",
    "for dirname, _, filenames in os.walk('/kaggle/input'):\n",
    "    for filename in filenames:\n",
    "        print(os.path.join(dirname, filename))\n",
    "\"\"\"\n",
    "# You can write up to 20GB to the current directory (/kaggle/working/) that gets preserved as output when you create a version using \"Save & Run All\" \n",
    "# You can also write temporary files to /kaggle/temp/, but they won't be saved outside of the current session"
   ]
  },
  {
   "cell_type": "markdown",
   "id": "377e0cd7",
   "metadata": {
    "papermill": {
     "duration": 0.003161,
     "end_time": "2022-08-09T16:57:39.850167",
     "exception": false,
     "start_time": "2022-08-09T16:57:39.847006",
     "status": "completed"
    },
    "tags": []
   },
   "source": [
    "# Creating the Dataset #"
   ]
  },
  {
   "cell_type": "code",
   "execution_count": 2,
   "id": "3eaca6f3",
   "metadata": {
    "execution": {
     "iopub.execute_input": "2022-08-09T16:57:39.860443Z",
     "iopub.status.busy": "2022-08-09T16:57:39.858960Z",
     "iopub.status.idle": "2022-08-09T16:57:39.875910Z",
     "shell.execute_reply": "2022-08-09T16:57:39.874603Z"
    },
    "papermill": {
     "duration": 0.025542,
     "end_time": "2022-08-09T16:57:39.879078",
     "exception": false,
     "start_time": "2022-08-09T16:57:39.853536",
     "status": "completed"
    },
    "tags": []
   },
   "outputs": [],
   "source": [
    "class cl_CreatingDataset:\n",
    "    def __init__(self, imageHeight, imageWidth, batch_size):\n",
    "        self.imageHeight = imageHeight\n",
    "        self.imageWidth = imageWidth\n",
    "        self.batch_size = batch_size\n",
    "\n",
    "    \n",
    "    def creatingPathList(self, trainImagesPath, trainDfPath):\n",
    "        trainDf = pd.read_csv(trainDfPath)\n",
    "        trainImagesPathList = []\n",
    "        labels = []\n",
    "        # reading the tain CSV\n",
    "        trainDf = pd.read_csv(trainDfPath)\n",
    "        for i in tqdm.tqdm(range(len(trainDf))):\n",
    "            folderName = trainDf[\"StudyInstanceUID\"].iloc[i]\n",
    "            imageFolderPath = os.path.join(trainImagesPath, folderName)\n",
    "\n",
    "            for file in glob(os.path.join(imageFolderPath, \"*.dcm\")):\n",
    "                # taking the imageName\n",
    "                trainImagesPathList.append(file)\n",
    "                # creating the labels\n",
    "                label = np.array([trainDf[\"C1\"].iloc[i],trainDf[\"C2\"].iloc[i], trainDf[\"C3\"].iloc[i], trainDf[\"C4\"].iloc[i], trainDf[\"C5\"].iloc[i], \n",
    "                                 trainDf[\"C6\"].iloc[i], trainDf[\"C7\"].iloc[i], trainDf[\"patient_overall\"].iloc[i]])\n",
    "                labels.append(label)\n",
    "        \n",
    "        return trainImagesPathList, labels\n",
    "    \n",
    "    \n",
    "    def parse_function(self, filename, label):\n",
    "        image_bytes = tf.io.read_file(filename)\n",
    "        image = tfio.image.decode_dicom_image(image_bytes, dtype=tf.float32)\n",
    "        #image = tf.image.convert_image_dtype(image, tf.float32)\n",
    "        resized_image = tf.image.resize(image, [self.imageHeight, self.imageWidth])\n",
    "        compressedImage = tf.squeeze(resized_image, axis = 0)\n",
    "        finalImage = tf.repeat(compressedImage, repeats=[3], axis = 2)\n",
    "        return finalImage, label\n",
    "        \n",
    "    def train_preprocess(self, image, label):\n",
    "        return image, label\n",
    "\n",
    "\n",
    "    def creatingDataset(self, filenames, labels):\n",
    "        dataset = tf.data.Dataset.from_tensor_slices((filenames, labels))\n",
    "        dataset = dataset.shuffle(len(filenames))\n",
    "        dataset = dataset.map(self.parse_function, num_parallel_calls=4)\n",
    "        dataset = dataset.map(self.train_preprocess, num_parallel_calls=4)\n",
    "        dataset = dataset.batch(self.batch_size)\n",
    "        dataset = dataset.prefetch(1)\n",
    "\n",
    "        return dataset"
   ]
  },
  {
   "cell_type": "markdown",
   "id": "372fdc71",
   "metadata": {
    "papermill": {
     "duration": 0.003347,
     "end_time": "2022-08-09T16:57:39.886226",
     "exception": false,
     "start_time": "2022-08-09T16:57:39.882879",
     "status": "completed"
    },
    "tags": []
   },
   "source": [
    "## Splitting the dataset ##"
   ]
  },
  {
   "cell_type": "code",
   "execution_count": 3,
   "id": "88959fe1",
   "metadata": {
    "execution": {
     "iopub.execute_input": "2022-08-09T16:57:39.895906Z",
     "iopub.status.busy": "2022-08-09T16:57:39.895039Z",
     "iopub.status.idle": "2022-08-09T16:57:39.901705Z",
     "shell.execute_reply": "2022-08-09T16:57:39.900615Z"
    },
    "papermill": {
     "duration": 0.014712,
     "end_time": "2022-08-09T16:57:39.904448",
     "exception": false,
     "start_time": "2022-08-09T16:57:39.889736",
     "status": "completed"
    },
    "tags": []
   },
   "outputs": [],
   "source": [
    "def splitDataset(dataset, trainFactor): # here it refers to tf.dataset\n",
    "    train_dataset = dataset.take(int(trainFactor * len(dataset)))\n",
    "    validation_dataset = dataset.take(int((1 - trainFactor)* len(dataset)))\n",
    "    \n",
    "    return train_dataset, validation_dataset\n",
    "    "
   ]
  },
  {
   "cell_type": "markdown",
   "id": "9138b451",
   "metadata": {
    "papermill": {
     "duration": 0.003266,
     "end_time": "2022-08-09T16:57:39.911556",
     "exception": false,
     "start_time": "2022-08-09T16:57:39.908290",
     "status": "completed"
    },
    "tags": []
   },
   "source": [
    "## Creating the model ##"
   ]
  },
  {
   "cell_type": "code",
   "execution_count": 4,
   "id": "3a87bf55",
   "metadata": {
    "execution": {
     "iopub.execute_input": "2022-08-09T16:57:39.921350Z",
     "iopub.status.busy": "2022-08-09T16:57:39.920589Z",
     "iopub.status.idle": "2022-08-09T16:57:39.927709Z",
     "shell.execute_reply": "2022-08-09T16:57:39.926725Z"
    },
    "papermill": {
     "duration": 0.015099,
     "end_time": "2022-08-09T16:57:39.930339",
     "exception": false,
     "start_time": "2022-08-09T16:57:39.915240",
     "status": "completed"
    },
    "tags": []
   },
   "outputs": [],
   "source": [
    "def creating_model():\n",
    "    IMG_SHAPE = (224, 224, 3)\n",
    "    base_model = tf.keras.applications.EfficientNetB5(input_shape=IMG_SHAPE,\n",
    "                                               include_top=False,\n",
    "                                               weights='imagenet')\n",
    "    \n",
    "    inputs = tf.keras.Input(shape=IMG_SHAPE)\n",
    "    x = base_model(x, training=False)\n",
    "    x = tf.keras.layers.GlobalAveragePooling2D()(x)\n",
    "    x = tf.keras.layers.Dropout(0.2)(x)\n",
    "    outputs = tf.keras.layers.Dense(8, activation = 'sigmoid')(x)\n",
    "    model = tf.keras.Model(inputs, outputs)\n"
   ]
  },
  {
   "cell_type": "code",
   "execution_count": 5,
   "id": "91deb9c8",
   "metadata": {
    "execution": {
     "iopub.execute_input": "2022-08-09T16:57:39.940304Z",
     "iopub.status.busy": "2022-08-09T16:57:39.939818Z",
     "iopub.status.idle": "2022-08-09T17:01:43.083360Z",
     "shell.execute_reply": "2022-08-09T17:01:43.081860Z"
    },
    "papermill": {
     "duration": 243.152538,
     "end_time": "2022-08-09T17:01:43.086864",
     "exception": false,
     "start_time": "2022-08-09T16:57:39.934326",
     "status": "completed"
    },
    "tags": []
   },
   "outputs": [
    {
     "name": "stderr",
     "output_type": "stream",
     "text": [
      "100%|██████████| 2019/2019 [04:03<00:00,  8.31it/s]"
     ]
    },
    {
     "name": "stdout",
     "output_type": "stream",
     "text": [
      "train Image list : 65 ..... train label list :  711601\n"
     ]
    },
    {
     "name": "stderr",
     "output_type": "stream",
     "text": [
      "\n"
     ]
    }
   ],
   "source": [
    "trainCsv = \"../input/rsna-2022-cervical-spine-fracture-detection/train.csv\"\n",
    "trainImagePath = \"../input/rsna-2022-cervical-spine-fracture-detection/train_images\"\n",
    "creDataset = cl_CreatingDataset(64, 64, 4)\n",
    "trainImagesPathList, labels = creDataset.creatingPathList(trainImagePath, trainCsv)\n",
    "print(\"train Image list :\", len(trainImagePath), \".....\", \"train label list : \", len(labels))"
   ]
  },
  {
   "cell_type": "code",
   "execution_count": null,
   "id": "e1be3baa",
   "metadata": {
    "papermill": {
     "duration": 0.083972,
     "end_time": "2022-08-09T17:01:43.256972",
     "exception": false,
     "start_time": "2022-08-09T17:01:43.173000",
     "status": "completed"
    },
    "tags": []
   },
   "outputs": [],
   "source": []
  },
  {
   "cell_type": "code",
   "execution_count": 6,
   "id": "c7933f3c",
   "metadata": {
    "execution": {
     "iopub.execute_input": "2022-08-09T17:01:43.427365Z",
     "iopub.status.busy": "2022-08-09T17:01:43.426869Z",
     "iopub.status.idle": "2022-08-09T17:02:05.520395Z",
     "shell.execute_reply": "2022-08-09T17:02:05.518656Z"
    },
    "papermill": {
     "duration": 22.183991,
     "end_time": "2022-08-09T17:02:05.523752",
     "exception": false,
     "start_time": "2022-08-09T17:01:43.339761",
     "status": "completed"
    },
    "tags": []
   },
   "outputs": [
    {
     "name": "stderr",
     "output_type": "stream",
     "text": [
      "2022-08-09 17:01:45.913042: I tensorflow/core/common_runtime/process_util.cc:146] Creating new thread pool with default inter op setting: 2. Tune using inter_op_parallelism_threads for best performance.\n",
      "2022-08-09 17:02:05.057313: I tensorflow_io/core/kernels/cpu_check.cc:128] Your CPU supports instructions that this TensorFlow IO binary was not compiled to use: AVX2 FMA\n"
     ]
    }
   ],
   "source": [
    "dataset = creDataset.creatingDataset(trainImagesPathList, labels)"
   ]
  },
  {
   "cell_type": "code",
   "execution_count": 7,
   "id": "6f1c1e1e",
   "metadata": {
    "execution": {
     "iopub.execute_input": "2022-08-09T17:02:05.744493Z",
     "iopub.status.busy": "2022-08-09T17:02:05.743984Z",
     "iopub.status.idle": "2022-08-09T17:02:07.973443Z",
     "shell.execute_reply": "2022-08-09T17:02:07.967426Z"
    },
    "papermill": {
     "duration": 2.353048,
     "end_time": "2022-08-09T17:02:07.984551",
     "exception": false,
     "start_time": "2022-08-09T17:02:05.631503",
     "status": "completed"
    },
    "tags": []
   },
   "outputs": [
    {
     "name": "stderr",
     "output_type": "stream",
     "text": [
      "2022-08-09 17:02:06.031353: I tensorflow/compiler/mlir/mlir_graph_optimization_pass.cc:185] None of the MLIR Optimization Passes are enabled (registered 2)\n",
      "W: DcmMetaInfo: No Group Length available in Meta Information Header\n",
      "W: DcmMetaInfo: No Group Length available in Meta Information Header\n",
      "W: DcmMetaInfo: No Group Length available in Meta Information Header\n",
      "W: DcmMetaInfo: No Group Length available in Meta Information Header\n",
      "W: DcmMetaInfo: No Group Length available in Meta Information Header\n",
      "W: DcmMetaInfo: No Group Length available in Meta Information Header\n",
      "W: DcmMetaInfo: No Group Length available in Meta Information Header\n",
      "W: DcmMetaInfo: No Group Length available in Meta Information Header\n"
     ]
    },
    {
     "name": "stdout",
     "output_type": "stream",
     "text": [
      "(4, 64, 64, 3)\n"
     ]
    }
   ],
   "source": [
    "for image, label in dataset.take(1):\n",
    "    imageNp = image.numpy()\n",
    "    print(imageNp.shape)"
   ]
  }
 ],
 "metadata": {
  "kernelspec": {
   "display_name": "Python 3",
   "language": "python",
   "name": "python3"
  },
  "language_info": {
   "codemirror_mode": {
    "name": "ipython",
    "version": 3
   },
   "file_extension": ".py",
   "mimetype": "text/x-python",
   "name": "python",
   "nbconvert_exporter": "python",
   "pygments_lexer": "ipython3",
   "version": "3.7.12"
  },
  "papermill": {
   "default_parameters": {},
   "duration": 289.453027,
   "end_time": "2022-08-09T17:02:11.513983",
   "environment_variables": {},
   "exception": null,
   "input_path": "__notebook__.ipynb",
   "output_path": "__notebook__.ipynb",
   "parameters": {},
   "start_time": "2022-08-09T16:57:22.060956",
   "version": "2.3.4"
  }
 },
 "nbformat": 4,
 "nbformat_minor": 5
}
